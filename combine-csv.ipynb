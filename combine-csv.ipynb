{
 "cells": [
  {
   "cell_type": "code",
   "execution_count": 73,
   "metadata": {},
   "outputs": [],
   "source": [
    "#import libraries\n",
    "import os\n",
    "import glob\n",
    "import pandas as pd\n",
    "import subprocess\n",
    "from datetime import date"
   ]
  },
  {
   "cell_type": "code",
   "execution_count": 74,
   "metadata": {},
   "outputs": [],
   "source": [
    "#read path\n",
    "folder_path = \"C:\\\\Users\\\\p40014d\\\\OneDrive - AholdDelhaize.com\\\\Documents\\\\Web Scraping\\\\Self-Checkout - Reddit\\\\R-Cleaned\\\\\"\n",
    "files = glob.glob(folder_path + '*.csv')"
   ]
  },
  {
   "cell_type": "code",
   "execution_count": 75,
   "metadata": {},
   "outputs": [],
   "source": [
    "#pull info from file name and build master df\n",
    "df_master = pd.DataFrame()\n",
    "for file_path in files:\n",
    "    df_sub = pd.read_csv(file_path, index_col = 0)\n",
    "    \n",
    "    #pull info from file path\n",
    "    str_start = \"R Clean\"\n",
    "    id_location = file_path.rfind(str_start) + len(str_start) \n",
    "    id_list = file_path[id_location:-4].split()\n",
    "    sRedd = id_list[0]\n",
    "    sID = id_list[3]\n",
    "\n",
    "    #add pulled info and store in new column\n",
    "    df_sub[\"Source ID\"] = sID\n",
    "    df_sub[\"SubReddit\"] = sRedd\n",
    "\n",
    "    #merge\n",
    "    df_master = pd.concat([df_master, df_sub])"
   ]
  },
  {
   "cell_type": "code",
   "execution_count": 76,
   "metadata": {},
   "outputs": [],
   "source": [
    "#auto run R for items in Reddit comment folder\n",
    "#code_location = \"C:\\\\Users\\\\p40014d\\\\OneDrive - AholdDelhaize.com\\\\Documents\\\\Github Code\\\\Reddit-Web-Scraper\\\\reddit-cleaner.r\"\n",
    "#res = subprocess.call(f\"Rscript {code_location}\", shell=True)\n"
   ]
  },
  {
   "cell_type": "code",
   "execution_count": 77,
   "metadata": {},
   "outputs": [],
   "source": [
    "#save merged df\n",
    "today = date.today().strftime('%Y-%m-%d')\n",
    "merged_csv_loc = folder_path + f'Merged Results {today}.csv'\n",
    "df_master.to_csv(merged_csv_loc, encoding='utf_8_sig')"
   ]
  }
 ],
 "metadata": {
  "kernelspec": {
   "display_name": "Python 3",
   "language": "python",
   "name": "python3"
  },
  "language_info": {
   "codemirror_mode": {
    "name": "ipython",
    "version": 3
   },
   "file_extension": ".py",
   "mimetype": "text/x-python",
   "name": "python",
   "nbconvert_exporter": "python",
   "pygments_lexer": "ipython3",
   "version": "3.10.9"
  },
  "orig_nbformat": 4,
  "vscode": {
   "interpreter": {
    "hash": "1c4a26ec77b70a0de623b940775a788e88d8a6e9f3ab87532893bafb7eb31bc9"
   }
  }
 },
 "nbformat": 4,
 "nbformat_minor": 2
}
