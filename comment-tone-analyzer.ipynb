{
 "cells": [
  {
   "cell_type": "code",
   "execution_count": 15,
   "metadata": {},
   "outputs": [],
   "source": [
    "from textblob import TextBlob\n",
    "import nltk\n",
    "from tkinter import Tk, filedialog\n",
    "from tkinter.filedialog import askopenfilename"
   ]
  },
  {
   "cell_type": "code",
   "execution_count": 14,
   "metadata": {},
   "outputs": [
    {
     "ename": "TypeError",
     "evalue": "The `text` argument passed to `__init__(text)` must be a string, not <class '_io.TextIOWrapper'>",
     "output_type": "error",
     "traceback": [
      "\u001b[1;31m---------------------------------------------------------------------------\u001b[0m",
      "\u001b[1;31mTypeError\u001b[0m                                 Traceback (most recent call last)",
      "Cell \u001b[1;32mIn[14], line 7\u001b[0m\n\u001b[0;32m      4\u001b[0m text \u001b[39m=\u001b[39m askopenfilename()\n\u001b[0;32m      6\u001b[0m \u001b[39mwith\u001b[39;00m \u001b[39mopen\u001b[39m(text, \u001b[39m'\u001b[39m\u001b[39mr\u001b[39m\u001b[39m'\u001b[39m, encoding \u001b[39m=\u001b[39m \u001b[39m'\u001b[39m\u001b[39mutf-8\u001b[39m\u001b[39m'\u001b[39m) \u001b[39mas\u001b[39;00m txt_file:\n\u001b[1;32m----> 7\u001b[0m     blob \u001b[39m=\u001b[39m TextBlob(txt_file)\n\u001b[0;32m      8\u001b[0m     \u001b[39mprint\u001b[39m(blob[\u001b[39m0\u001b[39m:\u001b[39m100\u001b[39m])\n",
      "File \u001b[1;32m~\\AppData\\Local\\Packages\\PythonSoftwareFoundation.Python.3.10_qbz5n2kfra8p0\\LocalCache\\local-packages\\Python310\\site-packages\\textblob\\blob.py:384\u001b[0m, in \u001b[0;36mBaseBlob.__init__\u001b[1;34m(self, text, tokenizer, pos_tagger, np_extractor, analyzer, parser, classifier, clean_html)\u001b[0m\n\u001b[0;32m    380\u001b[0m \u001b[39mdef\u001b[39;00m \u001b[39m__init__\u001b[39m(\u001b[39mself\u001b[39m, text, tokenizer\u001b[39m=\u001b[39m\u001b[39mNone\u001b[39;00m,\n\u001b[0;32m    381\u001b[0m             pos_tagger\u001b[39m=\u001b[39m\u001b[39mNone\u001b[39;00m, np_extractor\u001b[39m=\u001b[39m\u001b[39mNone\u001b[39;00m, analyzer\u001b[39m=\u001b[39m\u001b[39mNone\u001b[39;00m,\n\u001b[0;32m    382\u001b[0m             parser\u001b[39m=\u001b[39m\u001b[39mNone\u001b[39;00m, classifier\u001b[39m=\u001b[39m\u001b[39mNone\u001b[39;00m, clean_html\u001b[39m=\u001b[39m\u001b[39mFalse\u001b[39;00m):\n\u001b[0;32m    383\u001b[0m     \u001b[39mif\u001b[39;00m \u001b[39mnot\u001b[39;00m \u001b[39misinstance\u001b[39m(text, basestring):\n\u001b[1;32m--> 384\u001b[0m         \u001b[39mraise\u001b[39;00m \u001b[39mTypeError\u001b[39;00m(\u001b[39m'\u001b[39m\u001b[39mThe `text` argument passed to `__init__(text)` \u001b[39m\u001b[39m'\u001b[39m\n\u001b[0;32m    385\u001b[0m                         \u001b[39m'\u001b[39m\u001b[39mmust be a string, not \u001b[39m\u001b[39m{0}\u001b[39;00m\u001b[39m'\u001b[39m\u001b[39m.\u001b[39mformat(\u001b[39mtype\u001b[39m(text)))\n\u001b[0;32m    386\u001b[0m     \u001b[39mif\u001b[39;00m clean_html:\n\u001b[0;32m    387\u001b[0m         \u001b[39mraise\u001b[39;00m \u001b[39mNotImplementedError\u001b[39;00m(\u001b[39m\"\u001b[39m\u001b[39mclean_html has been deprecated. \u001b[39m\u001b[39m\"\u001b[39m\n\u001b[0;32m    388\u001b[0m                                 \u001b[39m\"\u001b[39m\u001b[39mTo remove HTML markup, use BeautifulSoup\u001b[39m\u001b[39m'\u001b[39m\u001b[39ms \u001b[39m\u001b[39m\"\u001b[39m\n\u001b[0;32m    389\u001b[0m                                 \u001b[39m\"\u001b[39m\u001b[39mget_text() function\u001b[39m\u001b[39m\"\u001b[39m)\n",
      "\u001b[1;31mTypeError\u001b[0m: The `text` argument passed to `__init__(text)` must be a string, not <class '_io.TextIOWrapper'>"
     ]
    }
   ],
   "source": [
    "root = Tk()\n",
    "root.lift()\n",
    "root.withdraw()\n",
    "text = askopenfilename()\n",
    "\n",
    "with open(text, 'r', encoding = 'utf-8') as txt_file:\n",
    "    blob = TextBlob(txt_file)\n",
    "    print(blob[0:100])"
   ]
  }
 ],
 "metadata": {
  "kernelspec": {
   "display_name": "Python 3",
   "language": "python",
   "name": "python3"
  },
  "language_info": {
   "codemirror_mode": {
    "name": "ipython",
    "version": 3
   },
   "file_extension": ".py",
   "mimetype": "text/x-python",
   "name": "python",
   "nbconvert_exporter": "python",
   "pygments_lexer": "ipython3",
   "version": "3.10.9 (tags/v3.10.9:1dd9be6, Dec  6 2022, 20:01:21) [MSC v.1934 64 bit (AMD64)]"
  },
  "orig_nbformat": 4,
  "vscode": {
   "interpreter": {
    "hash": "1c4a26ec77b70a0de623b940775a788e88d8a6e9f3ab87532893bafb7eb31bc9"
   }
  }
 },
 "nbformat": 4,
 "nbformat_minor": 2
}
